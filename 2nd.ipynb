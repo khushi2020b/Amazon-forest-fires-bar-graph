{
 "cells": [
  {
   "cell_type": "code",
   "execution_count": 11,
   "metadata": {},
   "outputs": [
    {
     "name": "stdout",
     "output_type": "stream",
     "text": [
      "    year state    month  number      date\n",
      "0   1998  Acre  Janeiro     NaN  01-01-98\n",
      "1   1999  Acre  Janeiro     NaN  01-01-99\n",
      "2   2000  Acre  Janeiro     NaN  01-01-00\n",
      "3   2001  Acre  Janeiro     NaN  01-01-01\n",
      "4   2002  Acre  Janeiro     NaN  01-01-02\n",
      "5   2003  Acre  Janeiro    10.0  01-01-03\n",
      "6   2004  Acre  Janeiro     NaN  01-01-04\n",
      "7   2005  Acre  Janeiro    12.0  01-01-05\n",
      "8   2006  Acre  Janeiro     4.0  01-01-06\n",
      "9   2007  Acre  Janeiro     NaN  01-01-07\n",
      "10  2008  Acre  Janeiro     NaN  01-01-08\n",
      "11  2009  Acre  Janeiro     NaN  01-01-09\n",
      "12  2010  Acre  Janeiro     1.0  01-01-10\n",
      "13  2011  Acre  Janeiro     NaN  01-01-11\n",
      "14  2012  Acre  Janeiro     NaN  01-01-12\n",
      "15  2013  Acre  Janeiro     NaN  01-01-13\n",
      "16  2014  Acre  Janeiro     NaN  01-01-14\n",
      "17  2015  Acre  Janeiro     1.0  01-01-15\n",
      "18  2016  Acre  Janeiro    12.0  01-01-16\n"
     ]
    }
   ],
   "source": [
    "import pandas as pnd\n",
    "import numpy as np\n",
    "amazon = pnd.read_csv(\"amazon_new.csv\", thousands = \".\")\n",
    "amazon = amazon.replace(0, np.nan)\n",
    "print(amazon)"
   ]
  },
  {
   "cell_type": "code",
   "execution_count": 15,
   "metadata": {},
   "outputs": [
    {
     "name": "stdout",
     "output_type": "stream",
     "text": [
      "    year state    month  number      date\n",
      "5   2003  Acre  Janeiro    10.0  01-01-03\n",
      "7   2005  Acre  Janeiro    12.0  01-01-05\n",
      "8   2006  Acre  Janeiro     4.0  01-01-06\n",
      "12  2010  Acre  Janeiro     1.0  01-01-10\n",
      "17  2015  Acre  Janeiro     1.0  01-01-15\n",
      "18  2016  Acre  Janeiro    12.0  01-01-16\n",
      "['Janeiro']\n"
     ]
    },
    {
     "data": {
      "text/plain": [
       "<AxesSubplot:xlabel='year'>"
      ]
     },
     "execution_count": 15,
     "metadata": {},
     "output_type": "execute_result"
    },
    {
     "data": {
      "image/png": "[encoded data removed]",
      "text/plain": [
       "<Figure size 432x288 with 1 Axes>"
      ]
     },
     "metadata": {
      "needs_background": "light"
     },
     "output_type": "display_data"
    }
   ],
   "source": [
    "amazon2 = amazon.dropna(subset = [\"number\"])\n",
    "print(amazon2)\n",
    "umonth = amazon2.month.unique()\n",
    "print(umonth)\n",
    "amazon2.plot(x = \"year\", y = \"number\")"
   ]
  }
 ],
 "metadata": {
  "kernelspec": {
   "display_name": "Python 3.10.5 64-bit (windows store)",
   "language": "python",
   "name": "python3"
  },
  "language_info": {
   "codemirror_mode": {
    "name": "ipython",
    "version": 3
   },
   "file_extension": ".py",
   "mimetype": "text/x-python",
   "name": "python",
   "nbconvert_exporter": "python",
   "pygments_lexer": "ipython3",
   "version": "3.10.5"
  },
  "orig_nbformat": 4,
  "vscode": {
   "interpreter": {
    "hash": "d317d1b1ed96b2bb33a13b4acc405d9459b600d731649c3708d3eddf60b8328d"
   }
  }
 },
 "nbformat": 4,
 "nbformat_minor": 2
}
